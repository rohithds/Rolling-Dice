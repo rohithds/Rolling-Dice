{
 "cells": [
  {
   "cell_type": "code",
   "execution_count": 1,
   "id": "860d75d2-81bb-4399-afb1-c8fcc396e9d2",
   "metadata": {},
   "outputs": [
    {
     "name": "stdout",
     "output_type": "stream",
     "text": [
      "Welcome to the Dice Roller!\n"
     ]
    },
    {
     "name": "stdin",
     "output_type": "stream",
     "text": [
      "Roll the dice? (y/n):  y\n"
     ]
    },
    {
     "name": "stdout",
     "output_type": "stream",
     "text": [
      "🎲 You rolled: 3 and 2\n",
      "✨ Total: 5\n"
     ]
    },
    {
     "name": "stdin",
     "output_type": "stream",
     "text": [
      "Roll the dice? (y/n):  y\n"
     ]
    },
    {
     "name": "stdout",
     "output_type": "stream",
     "text": [
      "🎲 You rolled: 2 and 6\n",
      "✨ Total: 8\n"
     ]
    },
    {
     "name": "stdin",
     "output_type": "stream",
     "text": [
      "Roll the dice? (y/n):  y\n"
     ]
    },
    {
     "name": "stdout",
     "output_type": "stream",
     "text": [
      "🎲 You rolled: 6 and 3\n",
      "✨ Total: 9\n"
     ]
    },
    {
     "name": "stdin",
     "output_type": "stream",
     "text": [
      "Roll the dice? (y/n):  n\n"
     ]
    },
    {
     "name": "stdout",
     "output_type": "stream",
     "text": [
      "Goodbye! 🎲\n"
     ]
    }
   ],
   "source": [
    "import random\n",
    "\n",
    "def roll_dice():\n",
    "    \"\"\"Simulate rolling a pair of dice.\"\"\"\n",
    "    dice_1 = random.randint(1, 6)  # Roll the first die\n",
    "    dice_2 = random.randint(1, 6)  # Roll the second die\n",
    "    total = dice_1 + dice_2\n",
    "    \n",
    "    print(f\"🎲 You rolled: {dice_1} and {dice_2}\")\n",
    "    print(f\"✨ Total: {total}\")\n",
    "    return total\n",
    "\n",
    "# Main program\n",
    "if __name__ == \"__main__\":\n",
    "    print(\"Welcome to the Dice Roller!\")\n",
    "    \n",
    "    while True:\n",
    "        user_input = input(\"Roll the dice? (y/n): \").strip().lower()\n",
    "        if user_input == \"y\":\n",
    "            roll_dice()\n",
    "        elif user_input == \"n\":\n",
    "            print(\"Goodbye! 🎲\")\n",
    "            break\n",
    "        else:\n",
    "            print(\"Invalid input. Please enter 'y' to roll or 'n' to exit.\")\n"
   ]
  },
  {
   "cell_type": "code",
   "execution_count": null,
   "id": "d185e3b9-ab19-4399-9f87-fa72699ec9c6",
   "metadata": {},
   "outputs": [],
   "source": []
  }
 ],
 "metadata": {
  "kernelspec": {
   "display_name": "Python [conda env:base] *",
   "language": "python",
   "name": "conda-base-py"
  },
  "language_info": {
   "codemirror_mode": {
    "name": "ipython",
    "version": 3
   },
   "file_extension": ".py",
   "mimetype": "text/x-python",
   "name": "python",
   "nbconvert_exporter": "python",
   "pygments_lexer": "ipython3",
   "version": "3.12.7"
  }
 },
 "nbformat": 4,
 "nbformat_minor": 5
}
